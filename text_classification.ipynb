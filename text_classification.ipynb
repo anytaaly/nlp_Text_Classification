{
  "cells": [
    {
      "cell_type": "markdown",
      "metadata": {
        "id": "QUzMpi3XpWYg"
      },
      "source": [
        "# Text Classification\n",
        "## \n",
        "## \n",
        "- **Overview**: For this assignment, we’ll be building a text classifier. The goal of our text classifer will be to distinguish between words that are simple and words that are complex. Example simple words are `heard`, `sat`, and `town`, and example complex words are `abdicate`, `detained`, and `vintners`. Distinguishing between simple and complex words is the first step in a larger NLP task called text simplification, which aims to replace complex words with simpler synonyms. Text simplification is potentially useful for re-writing texts so that they can be more easily understood by younger readers, people learning English as a second language, or people with learning disabilities.\n",
        "\n",
        "- **Learning goals**:\n",
        "    - Understand an important class of NLP evaluation methods (precision, recall and F1), and implement them yourself.\n",
        "    - Employ common experimental design practices in NLP. Split the annotated data into training/development/test sets, implement simple baselines to determine how difficult the task is, and experiment with a range of features and models.\n",
        "    - Get an introduction to `sklearn`, an excellent machine learning Python package.\n",
        "\n",
        "- **Data**: We will provide you with training and development data that has been manually labeled. We will also give you a test set without labels. You will build a classifier to predict the labels on our test set. You can upload your classifier’s predictions to Gradescope. We will score its predictions and maintain a leaderboard showing whose classifier has the best performance.\n",
        "\n",
        "## Recommended Readings\n",
        "- [Naive Bayes Classification and Sentiment](https://web.stanford.edu/~jurafsky/slp3/4.pdf) Dan Jurafsky and James H. Martin. Speech and Language Processing (3rd edition draft).\n",
        "- [Logistic Regression](https://web.stanford.edu/~jurafsky/slp3/5.pdf) Dan Jurafsky and James H. Martin. Speech and Language Processing (3rd edition draft) .\n",
        "- [Problems in Current Text Simplification Research: New Data Can Help](http://www.cis.upenn.edu/~ccb/publications/new-data-for-text-simplification.pdf) Wei Xu, Chris Callison-Burch, and Courtney Napoles. TACL 2015.\n",
        "- [Comparison of Techniques to Automatically Identify Complex Words](http://aclweb.org/anthology/P/P13/P13-3015.pdf) Matthew Shardlow. ACL 2013.\n",
        "- [SemEval 2016 Task 11: Complex Word Identification](https://www.researchgate.net/profile/Gustavo_Paetzold/publication/305334627_SemEval_2016_Task_11_Complex_Word_Identification/links/57bab70a08ae14f440bd9722/SemEval-2016-Task-11-Complex-Word-Identification.pdf) Gustavo Paetzold and Lucia Specia. ACL 2016."
      ]
    },
    {
      "cell_type": "markdown",
      "metadata": {
        "id": "IDv9qN5c9357"
      },
      "source": [
        "## Setup 1: PennGrader Setup"
      ]
    },
    {
      "cell_type": "code",
      "execution_count": null,
      "metadata": {
        "id": "uCEi3Stv9lun"
      },
      "outputs": [],
      "source": [
        "## DO NOT CHANGE ANYTHING, JUST RUN\n",
        "%%capture\n",
        "!pip install penngrader-client dill"
      ]
    },
    {
      "cell_type": "code",
      "execution_count": null,
      "metadata": {
        "colab": {
          "base_uri": "https://localhost:8080/"
        },
        "id": "AsOtK_aN65OD",
        "outputId": "9d6c6a37-f071-4d6b-fe7c-7c2a1c603fd0"
      },
      "outputs": [
        {
          "name": "stdout",
          "output_type": "stream",
          "text": [
            "Overwriting notebook-config.yaml\n"
          ]
        }
      ],
      "source": [
        "%%writefile notebook-config.yaml\n",
        "\n",
        "grader_api_url: 'https://23whrwph9h.execute-api.us-east-1.amazonaws.com/default/Grader23'\n",
        "grader_api_key: 'flfkE736fA6Z8GxMDJe2q8Kfk8UDqjsG3GVqOFOa'"
      ]
    },
    {
      "cell_type": "code",
      "execution_count": null,
      "metadata": {
        "colab": {
          "base_uri": "https://localhost:8080/"
        },
        "id": "A54Qn8Fc65rr",
        "outputId": "d3680041-d33e-44b4-9b1e-03f217f68b9f"
      },
      "outputs": [
        {
          "name": "stdout",
          "output_type": "stream",
          "text": [
            "\n",
            "grader_api_url: 'https://23whrwph9h.execute-api.us-east-1.amazonaws.com/default/Grader23'\n",
            "grader_api_key: 'flfkE736fA6Z8GxMDJe2q8Kfk8UDqjsG3GVqOFOa'\n"
          ]
        }
      ],
      "source": [
        "!cat notebook-config.yaml"
      ]
    },
    {
      "cell_type": "code",
      "execution_count": null,
      "metadata": {
        "colab": {
          "base_uri": "https://localhost:8080/"
        },
        "id": "pqLZxuPW65o0",
        "outputId": "e7d6e58e-8b6c-4e7d-a655-7ec3a4424fd0"
      },
      "outputs": [
        {
          "name": "stdout",
          "output_type": "stream",
          "text": [
            "PennGrader initialized with Student ID: 36181310\n",
            "\n",
            "Make sure this correct or we will not be able to store your grade\n"
          ]
        }
      ],
      "source": [
        "from penngrader.grader import *\n",
        "\n",
        "## TODO - Start\n",
        "STUDENT_ID = 36181310 # YOUR PENN-ID GOES HERE AS AN INTEGER#\n",
        "## TODO - End\n",
        "\n",
        "SECRET = STUDENT_ID\n",
        "grader = PennGrader('notebook-config.yaml', 'CIS5300_OL_23Su_HW2', STUDENT_ID, SECRET)"
      ]
    },
    {
      "cell_type": "code",
      "execution_count": null,
      "metadata": {
        "id": "e8Oo9CBh65mO"
      },
      "outputs": [],
      "source": [
        "def reload_grader():\n",
        "    grader = PennGrader('notebook-config.yaml', 'CIS5300_OL_23Su_HW2', STUDENT_ID, SECRET)\n",
        "    return grader"
      ]
    },
    {
      "cell_type": "code",
      "execution_count": null,
      "metadata": {
        "colab": {
          "base_uri": "https://localhost:8080/"
        },
        "id": "XiuH5IC47AKJ",
        "outputId": "0203615d-2b16-4613-ca34-3c6f958843df"
      },
      "outputs": [
        {
          "name": "stdout",
          "output_type": "stream",
          "text": [
            "Correct! You earned 4/4 points. You are a star!\n",
            "\n",
            "Your submission has been successfully recorded in the gradebook.\n"
          ]
        }
      ],
      "source": [
        "# check if the PennGrader is set up correctly\n",
        "# do not chance this cell, see if you get 4/4!\n",
        "name_str = 'Anyta Ali'\n",
        "grader.grade(test_case_id = 'name_test', answer = name_str)"
      ]
    },
    {
      "cell_type": "markdown",
      "metadata": {
        "id": "wHeB9GLB-PO1"
      },
      "source": [
        "## Setup 2: Dataset / Packages\n",
        "- **Run the following cells without changing anything!**\n",
        "- [Loading dataset from huggingface](https://huggingface.co/docs/datasets/v1.8.0/loading_datasets.html#from-local-files)"
      ]
    },
    {
      "cell_type": "code",
      "execution_count": null,
      "metadata": {
        "id": "g2eaUdk__tUv"
      },
      "outputs": [],
      "source": [
        "from collections import defaultdict\n",
        "import gzip\n",
        "\n",
        "from sklearn.linear_model import LogisticRegression\n",
        "from sklearn.naive_bayes import GaussianNB\n",
        "import numpy as np\n",
        "from tqdm import tqdm\n",
        "from dill.source import getsource\n",
        "import matplotlib.pyplot as plt\n",
        "from pprint import pprint"
      ]
    },
    {
      "cell_type": "code",
      "execution_count": null,
      "metadata": {
        "colab": {
          "base_uri": "https://localhost:8080/"
        },
        "id": "rzmRKkBzqFq9",
        "outputId": "902075fb-f00f-475b-fc0d-6e63ec72c244"
      },
      "outputs": [
        {
          "name": "stdout",
          "output_type": "stream",
          "text": [
            "Downloading...\n",
            "From: https://drive.google.com/uc?id=16KoidumvFEoI9hliqgrPiWhvhFHkqMEJ\n",
            "To: /content/complex_words_test_unlabeled.txt\n",
            "100% 181k/181k [00:00<00:00, 70.6MB/s]\n",
            "Downloading...\n",
            "From: https://drive.google.com/uc?id=17xaJNRt3DY2zhEgBE2zj0JEuMqf8CCdk\n",
            "To: /content/complex_words_training.txt\n",
            "100% 798k/798k [00:00<00:00, 83.8MB/s]\n",
            "Downloading...\n",
            "From: https://drive.google.com/uc?id=1JX-G-olW84eckkGW-1OC-5XeVJ-Yx3RK\n",
            "To: /content/complex_words_development.txt\n",
            "100% 198k/198k [00:00<00:00, 107MB/s]\n",
            "Downloading...\n",
            "From: https://drive.google.com/uc?id=1ppyM-7kFyabNG8zOudsTuhWl-2j-zy5Z\n",
            "To: /content/complex_words_test_mini.txt\n",
            "100% 396/396 [00:00<00:00, 1.43MB/s]\n",
            "  % Total    % Received % Xferd  Average Speed   Time    Time     Time  Current\n",
            "                                 Dload  Upload   Total   Spent    Left  Speed\n",
            "100   272  100   272    0     0    522      0 --:--:-- --:--:-- --:--:--   522\n",
            "100 42.4M  100 42.4M    0     0  7751k      0  0:00:05  0:00:05 --:--:-- 9951k\n"
          ]
        }
      ],
      "source": [
        "#%%capture\n",
        "# data\n",
        "!gdown 16KoidumvFEoI9hliqgrPiWhvhFHkqMEJ # https://drive.google.com/file/d/16KoidumvFEoI9hliqgrPiWhvhFHkqMEJ/view?usp=sharing\n",
        "!gdown 17xaJNRt3DY2zhEgBE2zj0JEuMqf8CCdk # https://drive.google.com/file/d/17xaJNRt3DY2zhEgBE2zj0JEuMqf8CCdk/view?usp=sharing\n",
        "!gdown 1JX-G-olW84eckkGW-1OC-5XeVJ-Yx3RK # https://drive.google.com/file/d/1JX-G-olW84eckkGW-1OC-5XeVJ-Yx3RK/view?usp=sharing\n",
        "!gdown 1ppyM-7kFyabNG8zOudsTuhWl-2j-zy5Z # https://drive.google.com/file/d/1ppyM-7kFyabNG8zOudsTuhWl-2j-zy5Z/view?usp=sharing\n",
        "!curl -L -o ngram_counts.txt.gz http://www.cis.upenn.edu/~cis5300/18sp/data/ngram_counts.txt.gz"
      ]
    },
    {
      "cell_type": "code",
      "execution_count": null,
      "metadata": {
        "colab": {
          "base_uri": "https://localhost:8080/"
        },
        "id": "rfCcEa82dwjv",
        "outputId": "085d9c8b-0ec4-462b-c19f-0e54372dc6b8"
      },
      "outputs": [
        {
          "name": "stdout",
          "output_type": "stream",
          "text": [
            "Downloading...\n",
            "From (original): https://drive.google.com/uc?id=1rkYaFae_qJk1AlHORDLH3aPH47f9DA8s\n",
            "From (redirected): https://drive.google.com/uc?id=1rkYaFae_qJk1AlHORDLH3aPH47f9DA8s&confirm=t&uuid=5f4a2307-7bec-4217-9d38-2a5bf63a5528\n",
            "To: /content/ngram_counts.txt.gz\n",
            "100% 44.5M/44.5M [00:00<00:00, 177MB/s]\n"
          ]
        }
      ],
      "source": [
        "!gdown 1rkYaFae_qJk1AlHORDLH3aPH47f9DA8s"
      ]
    },
    {
      "cell_type": "code",
      "execution_count": null,
      "metadata": {
        "id": "4HBHau8ddz95"
      },
      "outputs": [],
      "source": []
    },
    {
      "cell_type": "code",
      "execution_count": null,
      "metadata": {
        "id": "7Adfo88__puO"
      },
      "outputs": [],
      "source": [
        "train_file = \"complex_words_training.txt\"\n",
        "dev_file = \"complex_words_development.txt\"\n",
        "test_file = \"complex_words_test_unlabeled.txt\"\n",
        "mini_test_file = 'complex_words_test_mini.txt'"
      ]
    },
    {
      "cell_type": "code",
      "execution_count": null,
      "metadata": {
        "id": "sBvFx6rmqMU5"
      },
      "outputs": [],
      "source": [
        "########## DO NOT CHANGE ##########\n",
        "## Loads in the words and labels of one of the datasets\n",
        "def load_labeled_file(data_file):\n",
        "    words = []\n",
        "    labels = []\n",
        "    with open(data_file, 'rt', encoding=\"utf8\") as f:\n",
        "        i = 0\n",
        "        for line in f:\n",
        "            if i > 0:\n",
        "                line_split = line[:-1].split(\"\\t\")\n",
        "                words.append(line_split[0].lower())\n",
        "                labels.append(int(line_split[1]))\n",
        "            i += 1\n",
        "    return words, labels\n",
        "\n",
        "def load_unlabeled_file(data_file):\n",
        "    words = []\n",
        "    # labels = []\n",
        "    with open(data_file, 'rt', encoding=\"utf8\") as f:\n",
        "        words = [line.strip() for line in f.readlines() if len(line.strip()) > 0]\n",
        "    return words\n",
        "\n",
        "def load_test_file(data_file):\n",
        "    words = []\n",
        "    with open(data_file, 'rt', encoding=\"utf8\") as f:\n",
        "        next(f) # skip first line (header)\n",
        "        words = [line.strip().split('\\t')[0] for line in f.readlines() if len(line.strip()) > 0]\n",
        "    return words\n",
        "\n",
        "## Loads Google NGram counts\n",
        "def load_ngram_counts(ngram_counts_file = 'ngram_counts.txt.gz'):\n",
        "    counts = defaultdict(int)\n",
        "    with gzip.open(ngram_counts_file, 'rt') as f:\n",
        "        for line in f:\n",
        "            token, count = line.strip().split('\\t')\n",
        "            if token[0].islower():\n",
        "                counts[token] = int(count)\n",
        "    return counts\n",
        "ngram_counts = load_ngram_counts()"
      ]
    },
    {
      "cell_type": "markdown",
      "metadata": {
        "id": "e-cTPv6O5JHn"
      },
      "source": [
        "### About the data\n",
        "- `train_data`, `dev_data`: these are words with labels, provided for you to train and evaluate your models.\n",
        "- `mini_test_words`: this is a subset (50) of the unseen test dataset, we will provide test the **basic functionality** of your models based on the performance on this mini testset (PennGrader tests). **This would only be a basic sanity check of your implementation. The final grade would be based on the PennGrader Grades and manual grading on your implementation**\n",
        "- `test_words`: this is the full, unlabelled test set. You are expected to submit the prediction of these words at the end of the assignment."
      ]
    },
    {
      "cell_type": "code",
      "execution_count": null,
      "metadata": {
        "colab": {
          "base_uri": "https://localhost:8080/"
        },
        "id": "lM2zO3eB5I3U",
        "outputId": "cbeb607c-16da-4b88-facd-61220ef604a4"
      },
      "outputs": [
        {
          "data": {
            "text/plain": [
              "['hammer', 'renewable', 'showings', 'academy', 'continues']"
            ]
          },
          "execution_count": 14,
          "metadata": {},
          "output_type": "execute_result"
        }
      ],
      "source": [
        "########## DO NOT CHANGE ##########\n",
        "train_data = load_labeled_file(train_file)\n",
        "dev_data = load_labeled_file(dev_file)\n",
        "mini_test_words = load_unlabeled_file(mini_test_file)\n",
        "test_words = load_test_file(test_file)\n",
        "\n",
        "# you can take a look at this mini-dev data by uncommenting this line\n",
        "dev_words, dev_labels = dev_data\n",
        "dev_words[:5] # some examples of this dev dataset\n",
        "# dev_labels[:5]\n",
        "# train_data[1:2][0]"
      ]
    },
    {
      "cell_type": "code",
      "execution_count": null,
      "metadata": {
        "id": "spBhnflE5I0_"
      },
      "outputs": [],
      "source": []
    },
    {
      "cell_type": "markdown",
      "metadata": {
        "id": "QxKLifghqGI1"
      },
      "source": [
        "# Section 1. Implement the Evaluation Metrics\n",
        "- You might find this [Wikipedia Page](https://en.wikipedia.org/wiki/Precision_and_recall) useful.\n",
        "- **Problem 1.1** Predicion, Recall, F1 Score"
      ]
    },
    {
      "cell_type": "code",
      "execution_count": null,
      "metadata": {
        "id": "XTSjcJi4qL9H"
      },
      "outputs": [],
      "source": [
        "## Input: y_pred, a list of length n with the predicted labels,\n",
        "## y_true, a list of length n with the true labels\n",
        "\n",
        "## Calculates the precision of the predicted labels\n",
        "def get_precision(y_true, y_pred):\n",
        "    tp = sum((yt == yp) and (yt == 1) for yt, yp in zip(y_true, y_pred))  # True Positives\n",
        "    fp = sum((yt != yp) and (yp == 1) for yt, yp in zip(y_true, y_pred))  # False  Positives\n",
        "    precision = tp / (tp + fp) if (tp + fp) > 0 else 0  # to avoid division by zero\n",
        "    return precision\n",
        "\n",
        "## Calculates the recall of the predicted labels\n",
        "def get_recall(y_true, y_pred):\n",
        "    tp = sum((yt == yp) and (yt == 1) for yt, yp in zip(y_true, y_pred))  # True positives\n",
        "    fn = sum((yt != yp) and (yt == 1) for yt, yp in zip(y_true, y_pred))  # False  Negatives\n",
        "    recall = tp / (tp + fn) if (tp + fn) > 0 else 0  # avoid division by zero\n",
        "    return recall\n",
        "\n",
        "## Calculates the f-score of the predicted labels\n",
        "def get_fscore(y_true, y_pred):\n",
        "    precision = get_precision(y_true, y_pred)\n",
        "    recall = get_recall(y_true, y_pred)\n",
        "    fscore = (2 * precision * recall) / (precision + recall) if (precision + recall) > 0 else 0  # Avoid division by zero\n",
        "    return fscore"
      ]
    },
    {
      "cell_type": "code",
      "execution_count": null,
      "metadata": {
        "colab": {
          "base_uri": "https://localhost:8080/"
        },
        "id": "8IxXaxPwbMmQ",
        "outputId": "d684ab2a-c2cc-4edb-835e-ee783f534ca5"
      },
      "outputs": [
        {
          "name": "stdout",
          "output_type": "stream",
          "text": [
            "Correct! You earned 12/12 points. You are a star!\n",
            "\n",
            "Your submission has been successfully recorded in the gradebook.\n"
          ]
        }
      ],
      "source": [
        "# PennGrader - DO NOT CHANGE\n",
        "# grader.grade(test_case_id = 'test_q11_eval_funcs', answer = (get_precision, get_recall, get_fscore))\n",
        "grader.grade(test_case_id = 'test_q11_eval_funcs', answer = [getsource(get_precision), getsource(get_recall), getsource(get_fscore)])"
      ]
    },
    {
      "cell_type": "markdown",
      "metadata": {
        "id": "NPWqpba5qMkS"
      },
      "source": [
        "# Section 2. Baselines"
      ]
    },
    {
      "cell_type": "markdown",
      "metadata": {
        "id": "Ce_lQ23GrM04"
      },
      "source": [
        "## 2.1 Implement a majority class baseline\n",
        "You should start by implementing simple baselines as classifiers. Your first baseline is a **majority class baseline** which is one of the most simple classifier. You should complete the function `all_complex(words)`, which takes in a list of words, and returns out the predictions.\n"
      ]
    },
    {
      "cell_type": "markdown",
      "metadata": {
        "id": "ZSscYsHl9Hrz"
      },
      "source": [
        "- **Problem 2.1:** Implement `all_complex()` that always predicts the majority class of the data (i.e. predicting every word as complex)"
      ]
    },
    {
      "cell_type": "code",
      "execution_count": null,
      "metadata": {
        "id": "PadhojvR81W2"
      },
      "outputs": [],
      "source": [
        "## Labels every word complex\n",
        "def all_complex(words):\n",
        "    ## YOUR CODE HERE...\n",
        "    y_pred = [1] * len(words)\n",
        "    return y_pred"
      ]
    },
    {
      "cell_type": "code",
      "execution_count": null,
      "metadata": {
        "id": "diMeQEP-XfNL"
      },
      "outputs": [],
      "source": [
        "import matplotlib.pyplot as plt"
      ]
    },
    {
      "cell_type": "markdown",
      "metadata": {
        "id": "QTUh940XEA8W"
      },
      "source": [
        "- **Answer 2.1:** Please report the precision, recall, and f-score on both the training data and the development data.\n",
        "    - Training **[TODO]**\n",
        "    - Development **[TODO]**"
      ]
    },
    {
      "cell_type": "code",
      "execution_count": null,
      "metadata": {
        "id": "9Y7N4ktrXT0w"
      },
      "outputs": [],
      "source": [
        "## Evaluation of answer 2.1\n",
        "def eval_complex(y_true, y_pred):\n",
        "  precision = get_precision(y_true, y_pred)\n",
        "  recall = get_recall(y_true, y_pred)\n",
        "  fscore = get_fscore(y_true, y_pred)\n",
        "  return precision, recall, fscore\n",
        "\n",
        "\n",
        "## Load data train_data and dev_data\n",
        "train_words, train_labels = train_data #tuple unpacking\n",
        "dev_words, dev_labels = dev_data       # tuple unpacking\n",
        "\n",
        "##  report the precision, recall, and f-score on both the training data and the development data\n",
        "train_predictions = all_complex(train_words)\n",
        "dev_predictions = all_complex(dev_words)\n",
        "\n",
        "train_precision, train_recall, train_fscore = eval_complex(train_labels, train_predictions)\n",
        "dev_precision, dev_recall, dev_fscore = eval_complex(dev_labels, dev_predictions)\n",
        "\n",
        "\n",
        "\n",
        "##tuple unpacking\n",
        "##dev_data = ([\"giraffe\", \"dog\", \"magnificent\"], [1, 0, 1])\n",
        "# dev_words, dev_labels = dev_data\n",
        "\n",
        "# print(dev_words)   # Output: ['giraffe', 'dog', 'magnificent']\n",
        "# print(dev_labels)  # Output: [1, 0, 1]"
      ]
    },
    {
      "cell_type": "code",
      "execution_count": null,
      "metadata": {
        "colab": {
          "base_uri": "https://localhost:8080/"
        },
        "id": "8EKwjWe4SmCQ",
        "outputId": "d976f7c1-a545-46a1-c6d8-f002cecc6e04"
      },
      "outputs": [
        {
          "name": "stdout",
          "output_type": "stream",
          "text": [
            "2\n",
            "2\n"
          ]
        }
      ],
      "source": [
        "import csv\n",
        "## Test Cell\n",
        "##this block is to view the train and data tuple\n",
        "\n",
        "# Save dictionary as CSV\n",
        "with open(\"ngram_counts.csv\", \"w\", newline=\"\") as f:\n",
        "    writer = csv.writer(f)\n",
        "    # Write data rows\n",
        "    writer.writerows(ngram_counts)\n",
        "\n",
        "print(len(dev_data))\n",
        "print(len(train_data))"
      ]
    },
    {
      "cell_type": "code",
      "execution_count": null,
      "metadata": {
        "colab": {
          "base_uri": "https://localhost:8080/"
        },
        "id": "DLTmB2aw0fgC",
        "outputId": "4a8e9a51-f3c3-4ef3-9942-ca2df3e36273"
      },
      "outputs": [
        {
          "name": "stdout",
          "output_type": "stream",
          "text": [
            "### Training Data Metrics ###\n",
            "Precision: 0.4328\n",
            "Recall: 1.0000\n",
            "F1-score: 0.6041\n",
            "\n",
            "### Development Data Metrics ###\n",
            "Precision: 0.4180\n",
            "Recall: 1.0000\n",
            "F1-score: 0.5896\n"
          ]
        }
      ],
      "source": [
        "\n",
        "y_pred = all_complex(dev_words)\n",
        "precision = get_precision(dev_labels, y_pred)\n",
        "recall = get_recall(dev_labels, y_pred)\n",
        "fscore = get_fscore(dev_labels, y_pred)\n",
        "fscore\n",
        "\n",
        "\n",
        "\n",
        "## Print results\n",
        "print(\"### Training Data Metrics ###\")\n",
        "print(f\"Precision: {train_precision:.4f}\")\n",
        "print(f\"Recall: {train_recall:.4f}\")\n",
        "print(f\"F1-score: {train_fscore:.4f}\")\n",
        "\n",
        "print(\"\\n### Development Data Metrics ###\")\n",
        "print(f\"Precision: {dev_precision:.4f}\")\n",
        "print(f\"Recall: {dev_recall:.4f}\")\n",
        "print(f\"F1-score: {dev_fscore:.4f}\")"
      ]
    },
    {
      "cell_type": "code",
      "execution_count": null,
      "metadata": {
        "colab": {
          "base_uri": "https://localhost:8080/"
        },
        "id": "lL_sMcF0RBfm",
        "outputId": "75484fee-f2c8-4303-cd3f-e980d8c7ac56"
      },
      "outputs": [
        {
          "name": "stdout",
          "output_type": "stream",
          "text": [
            "['threads', 'reinforce', 'letters', 'pioneered', 'closer', 'fruits', 'gems', 'participants', 'tools', 'independent', 'rushed', 'physics', 'volume', 'box-office', 'warn', 'sorts', 'allegiance', 'hitchhiker', 'boring', 'celebrate', 'stranded', 'extra', 'expecting', 'steam', 'decide', 'flown', 'gunmen', 'murder', 'soldiers', 'purchasing', 'confined', 'lowered', 'participated', 'lady', 'fishes', 'acclaim', 'taste', 'highs', 'ordinary', 'finish', 'jewelry', 'seeing', 'skydive', 'already', 'instill', 'judges', 'aims', 'deep', 'fragment', 'right']\n",
            "Correct! You earned 3/3 points. You are a star!\n",
            "\n",
            "Your submission has been successfully recorded in the gradebook.\n"
          ]
        }
      ],
      "source": [
        "# PennGrader - DO NOT CHANGE\n",
        "print(mini_test_words)\n",
        "all_complex_pred = all_complex(mini_test_words)\n",
        "grader.grade(test_case_id = 'test_baseline_q21', answer = all_complex_pred)"
      ]
    },
    {
      "cell_type": "code",
      "execution_count": null,
      "metadata": {
        "colab": {
          "base_uri": "https://localhost:8080/",
          "height": 564
        },
        "id": "3YWay43xdHY0",
        "outputId": "73c236d8-2622-47e7-e63c-935c8f55ae25"
      },
      "outputs": [
        {
          "data": {
            "image/png": "[encoded data removed]",
            "text/plain": [
              "<Figure size 800x600 with 1 Axes>"
            ]
          },
          "metadata": {},
          "output_type": "display_data"
        }
      ],
      "source": [
        "plt.figure(figsize=(8, 6))\n",
        "plt.plot(recall, precision, marker='.', label=\"All Complex Baseline\")\n",
        "plt.xlabel(\"train_recall\")\n",
        "plt.ylabel(\"train_precision\")\n",
        "plt.title(\"Precision-Recall Curve\")\n",
        "plt.legend()\n",
        "plt.grid()\n",
        "plt.show()\n"
      ]
    },
    {
      "cell_type": "markdown",
      "metadata": {
        "id": "CjVszF6NrOjr"
      },
      "source": [
        "## 2.2 Word length baseline\n",
        "For our next baseline, we will use a slightly complex baseline, the length of each word to predict its complexity.\n",
        "\n",
        "For the word length baseline, you should try setting various thresholds for word length to classify them as simple or otherwise. For example, you might set a threshold of 9, meaning that any words with less than 9 characters will be labeled simple, and any words with 9 characters or more will be labeled complex. Once you find the best threshold using the training data, use this same threshold for the development data as well.\n",
        "\n",
        "You will be filling in the function `word_length_threshold(train_data, dev_data)`. This function takes in both the training and development datasets, finds the best threshold on word length and returns out the predictions on development data for your best threshold.\n",
        "\n",
        "Usually, Precision and Recall are inversely related and while building binary-classification systems we try to find a good balance between them (by maximizing f-score, for example). It is often useful to plot the Precision-Recall curve for various settings of the classifier to gauge its performance and compare it to other classifiers. For example, for this baseline, a Precision-Recall curve can be plotted by plotting the Precision (on the y-axis) and Recall (on the X-axis) for different values of word-length threshold."
      ]
    },
    {
      "cell_type": "markdown",
      "metadata": {
        "id": "AIDngmGzQSOV"
      },
      "source": [
        "- **Problem 2.2:** Implement `word_length_threshold()` that finds the best word length threshold and makes predictions on the development (or testing) data."
      ]
    },
    {
      "cell_type": "markdown",
      "metadata": {
        "id": "ikL1vXxGdCkY"
      },
      "source": [
        "train_words = [\"simple\", \"complicated\", \"difficult\", \"easy\", \"basic\"]\n",
        "train_labels = [0, 1, 1, 0, 0]  # True labels\n",
        "\n",
        "Using threshold = 6\n",
        "predictions =  [0, 1, 0, 0, 0]  # Our predictions"
      ]
    },
    {
      "cell_type": "code",
      "execution_count": null,
      "metadata": {
        "id": "ilbOj1BckJ8L"
      },
      "outputs": [],
      "source": [
        "### 2.2: Word length thresholding\n",
        "## Makes feature matrix for word_length_threshold\n",
        "## word length\n",
        "def length_threshold_feature(words, threshold):\n",
        "    # return predictions based on the threshold\n",
        "    \"\"\"\n",
        "    Make predictions based on word length threshold\n",
        "    Args:\n",
        "        words: List of words to classify [\"simple\", \"complicated\", \"difficult\", \"easy\", \"basic\"]\n",
        "        threshold: Integer threshold for word length\n",
        "    Returns:\n",
        "        List of predictions (1 for complex, 0 for simple) i.e. predictions = [0, 1, 0, 0, 0]\n",
        "    \"\"\"\n",
        "    predictions =[]\n",
        "    for word in words:\n",
        "      if len(word) >= threshold:\n",
        "        predictions.append(1) #complex words\n",
        "      else:\n",
        "        predictions.append(0)\n",
        "\n",
        "    return predictions #list of labels predicted for words\n",
        "\n",
        "def find_best_threshold(train_words, train_labels):\n",
        "    \"\"\"\n",
        "    Finds the best word length threshold based on F1-score.\n",
        "\n",
        "    Args:\n",
        "        train_words (list of str): Training words.\n",
        "        train_labels (list of int): Ground truth labels (0 = simple, 1 = complex).\n",
        "\n",
        "    Returns:\n",
        "        int: Best threshold value.\n",
        "    \"\"\"\n",
        "    lengths_list = map(len, train_words) # map length\n",
        "    max_lenght = max(lengths_list) # find maximum\n",
        "    thresholds = range(1, max_lenght + 1 ) # Create range\n",
        "    best_threshold = None\n",
        "    best_f1 = 0\n",
        "\n",
        "    for threshold in thresholds: # Try thresholds from 1 to max word length\n",
        "        predictions = length_threshold_feature(train_words, threshold)\n",
        "        f1 = get_fscore(train_labels, predictions)\n",
        "\n",
        "        if f1 > best_f1:\n",
        "            best_f1 = f1\n",
        "            best_threshold = threshold\n",
        "\n",
        "    return best_threshold\n",
        "\n",
        "\n",
        "\n",
        "## Finds the best length threshold by f-score, and uses this threshold to\n",
        "## classify the training and development set\n",
        "## use zip function zip(predictions, true_labels) pairs up each prediction with its true label\n",
        "def word_length_threshold(train_data, dev_words):\n",
        "    \"\"\"\n",
        "    writing this Finds the best length threshold using training data and applies it to classify dev data.\n",
        "\n",
        "    Args:\n",
        "        train_data (tuple): (train_words, train_labels).\n",
        "        dev_words (list of str): Development words.\n",
        "\n",
        "    Returns:\n",
        "        list of int: Predictions on development data.\n",
        "    \"\"\"\n",
        "    twords, tlabels = train_data       # tuple unpacking\n",
        "    best_threshold = find_best_threshold(train_words, train_labels)\n",
        "    print(f\"Best Threshold : {best_threshold:.4f}\")\n",
        "    ## YOUR CODE HERE\n",
        "    dev_pred = length_threshold_feature(dev_words, best_threshold)\n",
        "    return dev_pred"
      ]
    },
    {
      "cell_type": "markdown",
      "metadata": {
        "id": "x4-j-HuIEnvy"
      },
      "source": [
        "- **Answer 2.2:** Please report the precision, recall, and f-score on both the training data and the development data.\n",
        "    - Range of thresholds **[TODO]**\n",
        "    - Training **[TODO]**\n",
        "    - Development **[TODO]**\n",
        "    - Precision-recall Curve **[Plot below]**\n",
        "        - For plotting, [matplotlib](https://matplotlib.org/) is a useful python library"
      ]
    },
    {
      "cell_type": "code",
      "execution_count": null,
      "metadata": {
        "colab": {
          "base_uri": "https://localhost:8080/"
        },
        "id": "lHbIK7B4_wat",
        "outputId": "a30611c8-af1d-4be5-cd9c-f3796a060be3"
      },
      "outputs": [
        {
          "name": "stdout",
          "output_type": "stream",
          "text": [
            "Best Threshold : 7.0000\n",
            "\n",
            "### Data Metrics ###\n",
            "Precision: 0.6054\n",
            "Recall: 0.8660\n",
            "F1-score: 0.7126\n",
            "Best Threshold : 7.0000\n",
            "\n",
            "### Data Metrics - Training ###\n",
            "Precision: 0.6054\n",
            "Recall: 0.8660\n",
            "F1-score: 0.7126\n"
          ]
        }
      ],
      "source": [
        "dev_words, dev_labels = dev_data\n",
        "y_pred = word_length_threshold(train_data, dev_words)\n",
        "dprecision = get_precision(dev_labels, y_pred)\n",
        "drecall = get_recall(dev_labels, y_pred)\n",
        "dfscore = get_fscore(dev_labels, y_pred)\n",
        "dfscore\n",
        "\n",
        "\n",
        "print(\"\\n### Data Metrics ###\")\n",
        "print(f\"Precision: {dprecision:.4f}\")\n",
        "print(f\"Recall: {drecall:.4f}\")\n",
        "print(f\"F1-score: {dfscore:.4f}\")\n",
        "\n",
        "\n",
        "train_words, train_labels = dev_data\n",
        "y_pred = word_length_threshold(train_data, train_words)\n",
        "tprecision = get_precision(dev_labels, y_pred)\n",
        "trecall = get_recall(dev_labels, y_pred)\n",
        "tfscore = get_fscore(dev_labels, y_pred)\n",
        "\n",
        "print(\"\\n### Data Metrics - Training ###\")\n",
        "print(f\"Precision: {tprecision:.4f}\")\n",
        "print(f\"Recall: {trecall:.4f}\")\n",
        "print(f\"F1-score: {tfscore:.4f}\")\n"
      ]
    },
    {
      "cell_type": "code",
      "execution_count": null,
      "metadata": {
        "colab": {
          "base_uri": "https://localhost:8080/",
          "height": 487
        },
        "id": "fTh3189irQYO",
        "outputId": "19a5e752-fcaa-48aa-e2e2-222464778718"
      },
      "outputs": [
        {
          "data": {
            "image/png": "[encoded data removed]",
            "text/plain": [
              "<Figure size 700x500 with 1 Axes>"
            ]
          },
          "metadata": {},
          "output_type": "display_data"
        }
      ],
      "source": [
        "## TODO\n",
        "# precision-recall curve goes here\n",
        "def plot_precision_recall(train_words, train_labels):\n",
        "    \"\"\"\n",
        "    Plots Precision-Recall curve for different word length thresholds.\n",
        "\n",
        "    Args:\n",
        "        train_words (list of str): Training words.\n",
        "        train_labels (list of int): Ground truth labels.\n",
        "    \"\"\"\n",
        "    thresholds = range(1, max(map(len, train_words)) + 1)\n",
        "    precisions = []\n",
        "    recalls = []\n",
        "\n",
        "    for threshold in thresholds:\n",
        "        predictions = length_threshold_feature(train_words, threshold)\n",
        "        precision = get_precision(train_labels, predictions)\n",
        "        recall= get_recall(train_labels, predictions)\n",
        "        precisions.append(np.mean(precision))\n",
        "        recalls.append(np.mean(recall))\n",
        "\n",
        "    # Plot PR Curve\n",
        "    plt.figure(figsize=(7,5))\n",
        "    plt.plot(recalls, precisions, marker=\"o\", linestyle=\"-\")\n",
        "    plt.xlabel(\"Recall\")\n",
        "    plt.ylabel(\"Precision\")\n",
        "    plt.title(\"Precision-Recall Curve for Word Length Thresholding\")\n",
        "    plt.show()\n",
        "\n",
        " # Plot PR Curve\n",
        "plot_precision_recall(train_words, train_labels)"
      ]
    },
    {
      "cell_type": "code",
      "execution_count": null,
      "metadata": {
        "colab": {
          "base_uri": "https://localhost:8080/"
        },
        "id": "MQuSkuYc8TeJ",
        "outputId": "f79aa07d-b9d5-4518-a7b9-12e6f9a5291b"
      },
      "outputs": [
        {
          "name": "stdout",
          "output_type": "stream",
          "text": [
            "Best Threshold : 7.0000\n",
            "Correct! You earned 3/3 points. You are a star!\n",
            "\n",
            "Your submission has been successfully recorded in the gradebook.\n"
          ]
        }
      ],
      "source": [
        "# PennGrader - DO NOT CHANGE\n",
        "word_length_pred = word_length_threshold(train_data, mini_test_words)\n",
        "grader.grade(test_case_id = 'test_baseline_q22', answer = word_length_pred)"
      ]
    },
    {
      "cell_type": "markdown",
      "metadata": {
        "id": "_6m7o8VwrQ4x"
      },
      "source": [
        "## 2.3 Word frequency baseline\n"
      ]
    },
    {
      "cell_type": "markdown",
      "metadata": {
        "id": "Bm3Lh9kvFaF5"
      },
      "source": [
        "Our final baseline is a classifier similar to the last one, but thresholds on word frequency instead of length. We have provided Google NGram frequencies in the text file ngram_counts.txt, along with the helper function `load_ngram_counts(ngram_counts_file)` to load them into Python as a dictionary.\n",
        "\n",
        "You will be filling in the function `word_frequency_threshold(train_data, dev_data, ngram_counts)`, where `ngram_counts` is the dictionary of word frequencies. This function again finds the best threshold and returns predictions on the development data.\n",
        "\n",
        "Please again report the precision, recall, and f-score on the training and development data individually, along with the range of thresholds you tried, and the best threshold to be graded. Similar to the previous baseline, plot the Precision-Recall curve for range of thresholds you tried. Compared with word length baseline, which classifier looks better on average?\n",
        "\n",
        "**Note: Due to its size, loading the ngram counts into Python takes around 20 seconds, and finding the correct threshold may take a few minutes to run.**"
      ]
    },
    {
      "cell_type": "markdown",
      "metadata": {
        "id": "JnceCMcoQuRg"
      },
      "source": [
        "- **Problem 2.3:** Implement `word_frequency_threshold()` that finds the best word frequency threshold and makes predictions on the development (or testing) data."
      ]
    },
    {
      "cell_type": "code",
      "execution_count": null,
      "metadata": {
        "id": "Mnkit06ncN07"
      },
      "outputs": [],
      "source": [
        "## Make feature matrix for word_frequency_threshold\n",
        "def frequency_threshold_feature(words, threshold, ngram_counts):\n",
        "    # return predictions based on the threshold\n",
        "    ## YOUR CODE HERE\n",
        "    # hint: check the content of `ngram_counts` variable\n",
        "    # Feature: Is frequency < 200? (1 if yes = complex word, 0 if no = simple word)\n",
        "    '''\n",
        "    predictions = [\n",
        "        0,  # cat (freq=500): above threshold = simple\n",
        "        1,  # extraordinary (freq=50): below threshold = complex\n",
        "        0,  # dog (freq=600): above threshold = simple\n",
        "        1   # sophisticated (freq=30): below threshold = complex\n",
        "    ]\n",
        "    '''\n",
        "    predictions = [1 if ngram_counts.get(word, 0) < threshold else 0 for word in words]\n",
        "    # for word in words:\n",
        "    #   #find the frequency of the word in ngram_count, if word is not found return 0\n",
        "    #   frequency = ngram_counts.get(word.lower(), 0 )\n",
        "    #   if frequency < threshold:\n",
        "    #     predictions.append(1) # complex word - its used rarely\n",
        "    #   else:\n",
        "    #     predictions.append(0) # simple word\n",
        "    return predictions\n",
        "\n",
        "\n",
        "def word_frequency_threshold(train_data, dev_words, ngram_counts):\n",
        "    twords, tlabels = train_data\n",
        "\n",
        "    ## YOUR CODE HERE\n",
        "    # Getting all unique frequencies from training data\n",
        "    frequencies = set()\n",
        "    for word in twords:\n",
        "        freq = ngram_counts.get(word.lower(), 0)\n",
        "        frequencies.add(freq)\n",
        "\n",
        "    # Trying each frequency as threshold to find best one\n",
        "\n",
        "    best_threshold = 0\n",
        "    best_fscore = 0\n",
        "\n",
        "    for threshold in sorted(frequencies):\n",
        "        # Get predictions for current threshold\n",
        "        train_predictions = frequency_threshold_feature(twords, threshold, ngram_counts)\n",
        "\n",
        "        # # Calculate metrics\n",
        "        fscore = get_fscore(tlabels, train_predictions)\n",
        "\n",
        "        # Update best threshold if we get better f-score\n",
        "        if fscore > best_fscore:\n",
        "            best_fscore = fscore\n",
        "            best_threshold = threshold\n",
        "\n",
        "    # Use best threshold to make predictions on development data\n",
        "    dev_pred = frequency_threshold_feature(dev_words, best_threshold, ngram_counts)\n",
        "\n",
        "    return dev_pred #, precisions, recalls, thresholds"
      ]
    },
    {
      "cell_type": "code",
      "execution_count": null,
      "metadata": {
        "id": "oeucDr__z2b3"
      },
      "outputs": [],
      "source": [
        "\n",
        "# print(type(ngram_counts))\n",
        "# next(iter(ngram_counts))\n",
        "#pprint(ngram_counts)\n",
        "# take(10, ngram_counts.items())"
      ]
    },
    {
      "cell_type": "markdown",
      "metadata": {
        "id": "Rw-WAjxIFiiI"
      },
      "source": [
        "- **Answer 2.3:** Please report the precision, recall, and f-score on both the training data and the development data.\n",
        "    - Range of thresholds **[TODO]**\n",
        "    - Training **[TODO]**\n",
        "    - Development **[TODO]**\n",
        "    - Precision-recall Curve **[Plot below]**\n",
        "        - For plotting, [matplotlib](https://matplotlib.org/) is a useful python library"
      ]
    },
    {
      "cell_type": "code",
      "execution_count": null,
      "metadata": {
        "id": "USVhRHQO_uEn"
      },
      "outputs": [],
      "source": [
        "dev_words, dev_labels = dev_data\n",
        "y_pred  = word_frequency_threshold(train_data, dev_words, ngram_counts)\n",
        "\n",
        "dprecision = get_precision(dev_labels, y_pred)\n",
        "drecall = get_recall(dev_labels, y_pred)\n",
        "dfscore = get_fscore(dev_labels, y_pred)\n",
        "dfscore\n",
        "\n",
        "#Calculate metrics for training data\n",
        "twords, tlabels = train_data\n",
        "t_y_prediction = word_frequency_threshold(train_data, twords, ngram_counts)\n",
        "tprecision = get_precision(tlabels, t_y_prediction)\n",
        "trecall = get_recall(tlabels, t_y_prediction)\n",
        "tfscore = get_fscore(tlabels, t_y_prediction)\n",
        "\n"
      ]
    },
    {
      "cell_type": "markdown",
      "metadata": {
        "id": "gg5N-LYCsEoy"
      },
      "source": []
    },
    {
      "cell_type": "code",
      "execution_count": null,
      "metadata": {
        "colab": {
          "base_uri": "https://localhost:8080/",
          "height": 564
        },
        "id": "M4Kn7AwbX6WT",
        "outputId": "4551a7bd-8c5e-4bed-b6bc-f706cba5b09b"
      },
      "outputs": [
        {
          "data": {
            "image/png": "[encoded data removed]",
            "text/plain": [
              "<Figure size 1000x600 with 1 Axes>"
            ]
          },
          "metadata": {},
          "output_type": "display_data"
        }
      ],
      "source": [
        "# Create a separate function for PR curve data\n",
        "def get_pr_curve_data(train_data, ngram_counts):\n",
        "    dev_words, dev_labels = dev_data\n",
        "\n",
        "    frequencies = set()\n",
        "    for word in twords:\n",
        "        freq = ngram_counts.get(word.lower(), 0)\n",
        "        frequencies.add(freq)\n",
        "\n",
        "    precisions = []\n",
        "    recalls = []\n",
        "    thresholds = []\n",
        "\n",
        "    for threshold in sorted(frequencies):\n",
        "        train_predictions = frequency_threshold_feature(twords, threshold, ngram_counts)\n",
        "        precision = get_precision(tlabels, train_predictions)\n",
        "        recall = get_recall(tlabels, train_predictions)\n",
        "\n",
        "        precisions.append(precision)\n",
        "        recalls.append(recall)\n",
        "        thresholds.append(threshold)\n",
        "\n",
        "    return precisions, recalls, thresholds\n",
        "\n",
        "def plot_pr_curve(precisions, recalls, thresholds):\n",
        "    plt.figure(figsize=(10, 6))\n",
        "    plt.plot(recalls, precisions, 'b-', linewidth=2)\n",
        "    plt.xlabel('Recall')\n",
        "    plt.ylabel('Precision')\n",
        "    plt.title('Precision-Recall Curve for Word Frequency Thresholds')\n",
        "    plt.grid(True)\n",
        "    plt.xlim(-0.05, 1.05)\n",
        "    plt.ylim(-0.05, 1.05)\n",
        "\n",
        "    # Add some threshold annotations\n",
        "    for i in range(0, len(thresholds), len(thresholds)//5):\n",
        "        plt.annotate(f'th={thresholds[i]}',\n",
        "                    (recalls[i], precisions[i]),\n",
        "                    xytext=(5, 5), textcoords='offset points')\n",
        "\n",
        "    plt.show()\n",
        "\n",
        "precisions, recalls, thresholds = get_pr_curve_data(train_data, ngram_counts)\n",
        "plot_pr_curve(precisions, recalls, thresholds)"
      ]
    },
    {
      "cell_type": "code",
      "execution_count": null,
      "metadata": {
        "colab": {
          "base_uri": "https://localhost:8080/"
        },
        "id": "_bCYaXsWJBLp",
        "outputId": "eea8d4b1-49fb-4c03-e506-4ec34c437692"
      },
      "outputs": [
        {
          "name": "stdout",
          "output_type": "stream",
          "text": [
            "\n",
            "Training Data Metrics:\n",
            "Precision: 0.566\n",
            "Recall: 0.816\n",
            "F-score: 0.668\n",
            "\n",
            "Development Data Metrics:\n",
            "Precision: 0.557\n",
            "Recall: 0.844\n",
            "F-score: 0.671\n"
          ]
        }
      ],
      "source": [
        "    # print(\"\\nResults with best threshold:\", best_threshold)\n",
        "print(\"\\nTraining Data Metrics:\")\n",
        "print(f\"Precision: {tprecision:.3f}\")\n",
        "print(f\"Recall: {trecall:.3f}\")\n",
        "print(f\"F-score: {tfscore:.3f}\")\n",
        "\n",
        "print(\"\\nDevelopment Data Metrics:\")\n",
        "print(f\"Precision: {dprecision:.3f}\")\n",
        "print(f\"Recall: {drecall:.3f}\")\n",
        "print(f\"F-score: {dfscore:.3f}\")"
      ]
    },
    {
      "cell_type": "code",
      "execution_count": null,
      "metadata": {
        "colab": {
          "base_uri": "https://localhost:8080/"
        },
        "id": "Opp9TploM5N8",
        "outputId": "d0e74eff-72b2-4dd4-bee7-28a40e184f3f"
      },
      "outputs": [
        {
          "name": "stdout",
          "output_type": "stream",
          "text": [
            "Correct! You earned 3/3 points. You are a star!\n",
            "\n",
            "Your submission has been successfully recorded in the gradebook.\n"
          ]
        }
      ],
      "source": [
        "# PennGrader - DO NOT CHANGE\n",
        "word_freq_pred = word_frequency_threshold(train_data, mini_test_words, ngram_counts)\n",
        "grader.grade(test_case_id = 'test_baseline_q23', answer = word_freq_pred)"
      ]
    },
    {
      "cell_type": "code",
      "execution_count": null,
      "metadata": {
        "colab": {
          "base_uri": "https://localhost:8080/"
        },
        "id": "5CPuuXYaDpF7",
        "outputId": "9ad7e428-67f7-4163-93e4-4585ad4edd6c"
      },
      "outputs": [
        {
          "name": "stdout",
          "output_type": "stream",
          "text": [
            "[1, 1, 0, 1, 0, 1, 1, 0, 0, 0, 1, 1, 0, 1, 1, 1, 1, 1, 1, 1, 1, 0, 1, 0, 0, 1, 1, 0, 0, 1, 0, 1, 1, 0, 1, 1, 0, 1, 0, 1, 1, 0, 1, 0, 1, 0, 1, 0, 1, 0]\n"
          ]
        }
      ],
      "source": [
        "print(word_freq_pred)"
      ]
    },
    {
      "cell_type": "markdown",
      "metadata": {
        "id": "vL8m-NpOqTDG"
      },
      "source": [
        "# Section 3. Classifiers"
      ]
    },
    {
      "cell_type": "markdown",
      "metadata": {
        "id": "QCeaRTgprTWe"
      },
      "source": [
        "## 3.1 Naive Bayes classification\n"
      ]
    },
    {
      "cell_type": "markdown",
      "metadata": {
        "id": "38p7gBNVFvoG"
      },
      "source": [
        "Now, let’s move on to actual machine learning classifiers! For our first classifier, you will use the built-in [Naive Bayes model from sklearn](https://scikit-learn.org/stable/modules/generated/sklearn.naive_bayes.GaussianNB.html), to train a classifier. You should refer to the online sklearn documentation when you are building your classifier.\n",
        "\n",
        "The first thing to note is that sklearn classifiers take in `numpy` arrays, rather than regular lists. You may use the [online numpy documentation](https://numpy.org/doc/stable/). To create a `numpy` list of length 5, you can use the following Python commands:\n",
        "\n",
        "```\n",
        "import numpy as np\n",
        "X = np.array([1,2,3,4,5])\n",
        "```\n",
        "\n",
        "\n",
        "To train a classifier, you need two numpy arrays: `X_train`, an `m` by `n` array, where `m` is the number of words in the dataset, and `n` is the number of features for each word; and `Y`, an array of length `m` for the labels of each of the words.\n",
        "\n",
        "**Before we start training models, we need to convert our texts/words into numpy arrays, i.e. making training/testing feature vectors.**"
      ]
    },
    {
      "cell_type": "markdown",
      "metadata": {
        "id": "nnO1kcuNENCe"
      },
      "source": [
        "- **Problem 3.0**: Implementing `get_training_features()` and `get_test_features()` that convert train/test dataset to numpy arrays"
      ]
    },
    {
      "cell_type": "code",
      "execution_count": null,
      "metadata": {
        "id": "9ILfZ05JGRtJ"
      },
      "outputs": [],
      "source": [
        "%%capture\n",
        "# run the following cell if you want to use count of syllabus as a feature\n",
        "!pip install syllables\n",
        "import syllables"
      ]
    },
    {
      "cell_type": "code",
      "execution_count": null,
      "metadata": {
        "id": "YEkrjHTcEUiu"
      },
      "outputs": [],
      "source": [
        "def get_training_features(train_data, ngram_counts):\n",
        "    words, y_true = train_data\n",
        "    features = []\n",
        "    for word in words:\n",
        "        ## YOUR CODE HERE\n",
        "        word_features = []\n",
        "        vowels = 'aeiouy'\n",
        "        count = 0\n",
        "        prev_char_is_vowel = False\n",
        "        # 1. word length feature\n",
        "        word_features.append(len(word))\n",
        "        # 2. unigram frequency feature\n",
        "        frequency = ngram_counts.get(word.lower(), 0)\n",
        "        word_features.append(frequency)\n",
        "        # 3. (optional) syllables count feature\n",
        "        word = word.lower()\n",
        "        vowels = 'aeiouy'\n",
        "        count = 0\n",
        "        previous_char_was_vowel = False\n",
        "\n",
        "        # Handle special case of 'e' at end\n",
        "        if word.endswith('e'):\n",
        "            word = word[:-1]\n",
        "\n",
        "        # Count syllables\n",
        "        for char in word:\n",
        "            is_vowel = char in vowels\n",
        "            if is_vowel and not previous_char_was_vowel:\n",
        "                count += 1\n",
        "            previous_char_was_vowel = is_vowel\n",
        "\n",
        "        syllables = max(1, count)  # ensure at least one syllable\n",
        "\n",
        "        word_features.append(syllables)\n",
        "\n",
        "\n",
        "        features.append(word_features)\n",
        "    #print(features)\n",
        "    X = np.asarray(features)\n",
        "    ## YOUR CODE HERE\n",
        "    # TODO: calculate the mean and std of the vectorized data (X)\n",
        "    means = np.mean(X, axis=0)  # Mean of each column\n",
        "    stds = np.std(X, axis=0)   # Std of each column\n",
        "\n",
        "    # TODO: calculate the scaled data, with the mean and std you just calculated\n",
        "    X_scaled = (X - means) / stds\n",
        "\n",
        "    Y = np.asarray(y_true)\n",
        "    return X_scaled, Y, means, stds\n",
        "\n",
        "def get_test_features(dev_words, ngram_counts, means, stds):\n",
        "\n",
        "    ## YOUR CODE HERE\n",
        "    features = []\n",
        "\n",
        "    # Extract same features as training\n",
        "    for word in dev_words:\n",
        "        word_features = []\n",
        "        # 1. word length feature\n",
        "        word_features.append(len(word))\n",
        "        # 2. unigram frequency feature\n",
        "        frequency = ngram_counts.get(word.lower(), 0)\n",
        "        word_features.append(frequency)\n",
        "\n",
        "                # 3. syllables count feature - EXACTLY same logic as training\n",
        "        word = word.lower()\n",
        "        vowels = 'aeiouy'\n",
        "        count = 0\n",
        "        previous_char_was_vowel = False\n",
        "\n",
        "        if word.endswith('e'):\n",
        "            word = word[:-1]\n",
        "\n",
        "        for char in word:\n",
        "            is_vowel = char in vowels\n",
        "            if is_vowel and not previous_char_was_vowel:\n",
        "                count += 1\n",
        "            previous_char_was_vowel = is_vowel\n",
        "\n",
        "        syllables = max(1, count)\n",
        "        word_features.append(syllables)\n",
        "\n",
        "        features.append(word_features)\n",
        "\n",
        "    X = np.asarray(features)\n",
        "    # TODO: do the similar thing, except using means and stds as given (from training data)\n",
        "    X_scaled = (X - means) / stds\n",
        "\n",
        "    return X_scaled"
      ]
    },
    {
      "cell_type": "code",
      "execution_count": null,
      "metadata": {
        "colab": {
          "base_uri": "https://localhost:8080/"
        },
        "id": "EX1yJMFvIqo6",
        "outputId": "891dde46-014d-470c-bff9-806ca790465d"
      },
      "outputs": [
        {
          "name": "stdout",
          "output_type": "stream",
          "text": [
            "Correct! You earned 3/3 points. You are a star!\n",
            "\n",
            "Your submission has been successfully recorded in the gradebook.\n"
          ]
        }
      ],
      "source": [
        "# PennGrader - DO NOT CHANGE\n",
        "dev_words, dev_labels = dev_data\n",
        "X_train, Y_train, means, stds = get_training_features(train_data, ngram_counts)\n",
        "X_dev = get_test_features(dev_words, ngram_counts, means, stds)\n",
        "\n",
        "train_feats = (X_train, Y_train, means, stds)\n",
        "test_feats = (X_dev)\n",
        "\n",
        "grader.grade(test_case_id = 'test_q30_test_feature_shapes', answer = (train_feats, test_feats))"
      ]
    },
    {
      "cell_type": "markdown",
      "metadata": {
        "id": "dAd7V6R4GLP-"
      },
      "source": [
        "Once we have these feature arrays, we can fit a Naive Bayes classifier using the following commands:\n",
        "```\n",
        "from sklearn.naive_bayes import GaussianNB\n",
        "clf = GaussianNB()\n",
        "clf.fit(X_train, Y)\n",
        "```\n",
        "Finally, to use your model to predict the labels for a set of words, you only need one numpy array: `X_test`, an `m` by `n` array, where `m` is the number of words in the test set, and `n` is the number of features for each word. Note that the `n` used here is the same as the `n` in `X_train`. Then, we can use our classifier to predict labels using the following command:\n",
        "\n",
        "```\n",
        "Y_pred = clf.predict(X_test)\n",
        "```"
      ]
    },
    {
      "cell_type": "markdown",
      "metadata": {
        "id": "vOFLzpw3ZApH"
      },
      "source": [
        "- **Problem 3.1**: Fill in the function `naive_bayes(train_data, dev_data, ngram_counts)`. This function will train a Naive Bayes classifier on the training data using **word length** and **word frequency** as features, and returns your model’s predictions on the training data and the development data individually.\n",
        "    - **NOTE**: Before training and testing a classifier, it is generally important to normalize your features. This means that you need to find the mean and standard deviation (sd) of a feature. Then, for each row, perform the following transformation: `X_scaled = (X_original - mean)/sd`. **Be sure to always use the means and standard deviations from the training data**.\n",
        "    - **Optional**: You can include more features if you want to, e.g. [the count of syllabus](https://github.com/prosegrinder/python-syllables)\n"
      ]
    },
    {
      "cell_type": "code",
      "execution_count": null,
      "metadata": {
        "id": "mQcxSw3B4EWx"
      },
      "outputs": [],
      "source": [
        "from sklearn.linear_model import LogisticRegression\n",
        "from sklearn.naive_bayes import GaussianNB\n"
      ]
    },
    {
      "cell_type": "code",
      "execution_count": null,
      "metadata": {
        "id": "HDy-VjftqUoC"
      },
      "outputs": [],
      "source": [
        "## Trains a Naive Bayes classifier using length and frequency features\n",
        "def naive_bayes(train_data, dev_words, ngram_counts):\n",
        "    # TODO\n",
        "    # 1. Gets the features from the training data, and trains the model\n",
        "    X_train_scaled, Y_train, means, stds = get_training_features(train_data, ngram_counts)\n",
        "    # 2. Train model & inference on dev_words\n",
        "    ## YOUR CODE HERE\n",
        "    clf = GaussianNB()\n",
        "    clf.fit(X_train_scaled, Y_train)\n",
        "\n",
        "    # 3. Get predictions on training data\n",
        "    train_pred = clf.predict(X_train_scaled)\n",
        "\n",
        "    # 4. Get features from dev data using same scaling parameters\n",
        "    dev_words, dev_labels = dev_data\n",
        "    X_dev_scaled = get_test_features(dev_words, ngram_counts, means, stds)\n",
        "\n",
        "    # 5. Get predictions on dev data\n",
        "    dev_pred = clf.predict(X_dev_scaled)\n",
        "\n",
        "    return train_pred, dev_pred"
      ]
    },
    {
      "cell_type": "markdown",
      "metadata": {
        "id": "Ss589ydpGSY1"
      },
      "source": [
        "- **Answer 3.1:** Please report the precision, recall, and f-score on both the training data and the development data.\n",
        "    - Training **[TODO]**\n",
        "    - Development **[TODO]**"
      ]
    },
    {
      "cell_type": "code",
      "execution_count": null,
      "metadata": {
        "id": "aC3BVu5o_X5H"
      },
      "outputs": [],
      "source": [
        "# report development metrics!\n",
        "dev_words, dev_labels = dev_data\n",
        "train_pred, dev_pred = naive_bayes(train_data, dev_words, ngram_counts)\n",
        "dev_precision = get_precision(dev_labels, dev_pred)\n",
        "dev_recall = get_recall(dev_labels, dev_pred)\n",
        "dev_f = get_fscore(dev_labels, dev_pred)\n",
        "dev_f\n",
        "\n",
        "# report train/development metrics!\n",
        "# For training data metrics\n",
        "train_words, train_labels = train_data  # get training labels\n",
        "train_precision = get_precision(train_labels, train_pred)\n",
        "train_recall = get_recall(train_labels, train_pred)\n",
        "train_f = get_fscore(train_labels, train_pred)"
      ]
    },
    {
      "cell_type": "code",
      "execution_count": null,
      "metadata": {
        "colab": {
          "base_uri": "https://localhost:8080/"
        },
        "id": "_HooTu2Qrksn",
        "outputId": "aac7f00f-3484-44e9-e033-9de14c1587e0"
      },
      "outputs": [
        {
          "name": "stdout",
          "output_type": "stream",
          "text": [
            "\n",
            "Training Data Metrics:\n",
            "Precision: 0.482\n",
            "Recall: 0.971\n",
            "F-score: 0.644\n",
            "\n",
            "Development Data Metrics:\n",
            "Precision: 0.506\n",
            "Recall: 0.978\n",
            "F-score: 0.667\n"
          ]
        }
      ],
      "source": [
        "    # print(\"\\nResults with best threshold:\", best_threshold)\n",
        "print(\"\\nTraining Data Metrics:\")\n",
        "print(f\"Precision: {dev_precision:.3f}\")\n",
        "print(f\"Recall: {dev_recall:.3f}\")\n",
        "print(f\"F-score: {dev_f:.3f}\")\n",
        "\n",
        "print(\"\\nDevelopment Data Metrics:\")\n",
        "print(f\"Precision: {train_precision:.3f}\")\n",
        "print(f\"Recall: {train_recall:.3f}\")\n",
        "print(f\"F-score: {train_f:.3f}\")"
      ]
    },
    {
      "cell_type": "code",
      "execution_count": null,
      "metadata": {
        "colab": {
          "base_uri": "https://localhost:8080/"
        },
        "id": "dqKUYfbtrVkx",
        "outputId": "1da3898f-a402-4472-c85b-9f2219d02bc7"
      },
      "outputs": [
        {
          "name": "stdout",
          "output_type": "stream",
          "text": [
            "Correct! You earned 3/3 points. You are a star!\n",
            "\n",
            "Your submission has been successfully recorded in the gradebook.\n"
          ]
        }
      ],
      "source": [
        "# PennGrader - DO NOT CHANGE\n",
        "train_pred, mini_test_pred = naive_bayes(train_data, mini_test_words, ngram_counts)\n",
        "grader.grade(test_case_id = 'test_naive_bayes', answer = mini_test_pred)"
      ]
    },
    {
      "cell_type": "markdown",
      "metadata": {
        "id": "uo8GAjvxrVzw"
      },
      "source": [
        "## 3.2 Logistic Regression\n",
        "Next, you will use sklearn’s built-in Logistic Regression classifier. Again, we will use word length and word frequency as your two features. You should refer to [the online sklearn documentation](https://scikit-learn.org/stable/modules/generated/sklearn.linear_model.LogisticRegression.html) when you are building your classifier. To import and use this model, use the following command:\n",
        "\n",
        "```\n",
        "from sklearn.linear_model import LogisticRegression\n",
        "clf = LogisticRegression()\n",
        "```\n",
        "\n",
        "- **Problem 3.2**: For this problem, you will be filling in the function `logistic_regression(train_data, dev_data, ngram_counts)`. This function will train a `Logistic Regression` classifier on the training data, and returns your model’s predictions on the training data and the development data individually.\n"
      ]
    },
    {
      "cell_type": "code",
      "execution_count": null,
      "metadata": {
        "id": "RZV8KqyT7ELD"
      },
      "outputs": [],
      "source": [
        "from sklearn.linear_model import LogisticRegression"
      ]
    },
    {
      "cell_type": "code",
      "execution_count": null,
      "metadata": {
        "id": "ggRdb6zYrVgN"
      },
      "outputs": [],
      "source": [
        "## Trains a logistic regression classifier using length and frequency features\n",
        "def logistic_regression(train_data, dev_words, ngram_counts):\n",
        "    ## TODO\n",
        "    # Get training features and labels\n",
        "    X_train_scaled, Y_train, means, stds = get_training_features(train_data, ngram_counts)\n",
        "\n",
        "    # Get dev features (using same scaling from training)\n",
        "    X_dev_scaled = get_test_features(dev_words, ngram_counts, means, stds)\n",
        "\n",
        "    lr = LogisticRegression(random_state=42)  # for reproducibility\n",
        "\n",
        "    # Train model\n",
        "    lr.fit(X_train_scaled, Y_train)\n",
        "\n",
        "    # Get predictions\n",
        "    train_pred = lr.predict(X_train_scaled)  # predictions on training data\n",
        "    dev_pred = lr.predict(X_dev_scaled)      # predictions on dev data\n",
        "\n",
        "    return train_pred, dev_pred"
      ]
    },
    {
      "cell_type": "markdown",
      "metadata": {
        "id": "PDH4MMIy_kke"
      },
      "source": [
        "- **Answer 3.2:** Please report the precision, recall, and f-score on both the training data and the development data.\n",
        "    - Training **[TODO]**\n",
        "    - Development **[TODO]**"
      ]
    },
    {
      "cell_type": "code",
      "execution_count": null,
      "metadata": {
        "colab": {
          "base_uri": "https://localhost:8080/"
        },
        "id": "emRXThKD_noX",
        "outputId": "b070e466-10df-4f95-9932-07d886a51885"
      },
      "outputs": [
        {
          "name": "stdout",
          "output_type": "stream",
          "text": [
            "--- Training Metrics: --- \n",
            "Precision: 0.745\n",
            "Recall: 0.651\n",
            "F-score: 0.695\n",
            "--- Training Metrics: ---\n",
            "Precision: 0.728\n",
            "Recall: 0.634\n",
            "F-score: 0.678\n"
          ]
        }
      ],
      "source": [
        "dev_words, dev_labels = dev_data\n",
        "train_pred, dev_pred = logistic_regression(train_data, dev_words, ngram_counts)\n",
        "dev_precision = get_precision(dev_labels, dev_pred)\n",
        "dev_recall = get_recall(dev_labels, dev_pred)\n",
        "dev_f = get_fscore(dev_labels, dev_pred)\n",
        "dev_f\n",
        "\n",
        "print(\"--- Training Metrics: --- \")\n",
        "print(f\"Precision: {dev_precision:.3f}\")\n",
        "print(f\"Recall: {dev_recall:.3f}\")\n",
        "print(f\"F-score: {dev_f:.3f}\")\n",
        "\n",
        "# Get predictions\n",
        "train_pred, dev_pred = logistic_regression(train_data, dev_words, ngram_counts)\n",
        "\n",
        "# Calculate metrics\n",
        "train_precision = get_precision(train_labels, train_pred)\n",
        "train_recall = get_recall(train_labels, train_pred)\n",
        "train_fscore = get_fscore(train_labels, train_pred)\n",
        "\n",
        "print(\"--- Training Metrics: ---\")\n",
        "print(f\"Precision: {train_precision:.3f}\")\n",
        "print(f\"Recall: {train_recall:.3f}\")\n",
        "print(f\"F-score: {train_fscore:.3f}\")"
      ]
    },
    {
      "cell_type": "code",
      "execution_count": null,
      "metadata": {
        "colab": {
          "base_uri": "https://localhost:8080/"
        },
        "id": "URxmIQiNTBMQ",
        "outputId": "3195b8a8-12ba-4a18-ce8f-7638ac40f975"
      },
      "outputs": [
        {
          "name": "stdout",
          "output_type": "stream",
          "text": [
            "Correct! You earned 3/3 points. You are a star!\n",
            "\n",
            "Your submission has been successfully recorded in the gradebook.\n"
          ]
        }
      ],
      "source": [
        "# PennGrader - DO NOT CHANGE\n",
        "train_pred, mini_test_pred = logistic_regression(train_data, mini_test_words, ngram_counts)\n",
        "grader.grade(test_case_id = 'test_logistic', answer = mini_test_pred)"
      ]
    },
    {
      "cell_type": "markdown",
      "metadata": {
        "id": "qJoKAFpfrYQ7"
      },
      "source": [
        "## 3.3 Comparing Naive Bayes and Logistic Regression\n",
        "- **Answer 3.3**: After implementing Naive Bayes and Logistic Regression classifiers, you will notice that their performance is not identical, even though they are given the same data. **Write a paragraph below that discusses which model performed better on this task and what are the potential reasons.**\n",
        "    - [TODO: discussion of the differences]"
      ]
    },
    {
      "cell_type": "markdown",
      "metadata": {
        "id": "aIhtop7Wn12B"
      },
      "source": []
    },
    {
      "cell_type": "markdown",
      "metadata": {
        "id": "EcGebAWIUUqs"
      },
      "source": [
        "# Answer 3.3"
      ]
    },
    {
      "cell_type": "markdown",
      "metadata": {
        "id": "KChgCFbooGac"
      },
      "source": [
        "\n",
        "\n",
        "```\n",
        "Naive Bayes:\n",
        "Training: Precision=0.482, Recall=0.971, F-score=0.644\n",
        "Dev: Precision=0.506, Recall=0.978, F-score=0.667\n",
        "\n",
        "Logistic Regression:\n",
        "Training: Precision=0.745, Recall=0.651, F-score=0.695\n",
        "Dev: Precision=0.728, Recall=0.634, F-score=0.678\n",
        "```\n",
        "\n"
      ]
    },
    {
      "cell_type": "markdown",
      "metadata": {
        "id": "SFW_4hCioNIh"
      },
      "source": [
        "## Comparison of Naive Bayes and logistic Regression\n",
        "\n",
        "Naive Bayes :  to more true positives (high recall) but also more false positives (low precision).\n",
        "Naive Bayes modal achives very high recall i.e. 0.97 but with a lower precision i.e. 0.56, this shows that Naive Bayes successfully identifies most complex words but tends to overclassify simple words. This usually happens with a class imbalance, which leads to higher recall but at the cost of precision.\n",
        "\n",
        "In Contrast, Logistic Regression has higher precision so it makes a fewer false positive predictions.\n",
        "and a lower recalls indicate that it misses more actual positives compared to Naive Bayes.\n",
        "\n",
        "Which modal is best depends on the use case, lets say this data is related to complaints regarding department or product; in that case, catching all relevant complex text is important, hence Naive Bayes. but if its a medical or legal document where classification (high precision) is important, then logistic Regression.\n",
        "\n"
      ]
    },
    {
      "cell_type": "markdown",
      "metadata": {
        "id": "BFBpm0kdqU2V"
      },
      "source": [
        "# Section 4. Build your own model\n",
        "Finally, the fun part! In this section, you will build your own classifier for the complex word identification task, and compare your results to that of your classmates. You will also perform an error analysis for your best performing model.\n",
        "\n",
        "You can choose any other types of classifier, and any additional features you can think of!\n",
        "- For classifiers, beyond `Naive Bayes` and `Logistic Regression`, you might consider trying `SVM`, `Decision Trees`, and `Random Forests`, among others.\n",
        "- Additional word features that you might consider include number of syllables, number of `WordNet` synonyms, and number of `WordNet` senses. To use WordNet in Python, refer to [this documentation](http://www.nltk.org/howto/wordnet.html).\n",
        "- You could also include sentence-based complexity features, such as length of the sentence, average word length, and average word frequency.\n",
        "\n",
        "When trying different classifiers, we recommend that you train on training data, and test on the development data, like the previous sections.\n",
        "\n",
        "In the following cell, please include a description of **all of the models** and **features** that you tried. To receive full credit, you MUST try **at least 1 type of classifier** (not including `Naive Bayes` and `Logistic Regression`), and **at least two features** (not including length and frequency).\n",
        "\n",
        "**Note**: You can also tune the parameters of your model, e.g. what type of kernel to use. This is NOT required, as some of you may not be that familiar with this.\n",
        "\n"
      ]
    },
    {
      "cell_type": "markdown",
      "metadata": {
        "id": "O1jCYFXIra-O"
      },
      "source": [
        "## 4.1 Your Own Model\n",
        "\n",
        "An important part of text classification tasks is to determine what your model is getting correct, and what your model is getting wrong. For this problem, you must train your best model on the training data, and report the precision, recall, and f-score on the development data. In order to receive full credit, your model must be able to outperform all of the baselines."
      ]
    },
    {
      "cell_type": "markdown",
      "metadata": {
        "id": "mGQck2ObXjqi"
      },
      "source": [
        "- **Answer 4.1**: Train your best model on the training data, and report the precision, recall, and f-score on the development data"
      ]
    },
    {
      "cell_type": "code",
      "execution_count": null,
      "metadata": {
        "id": "_jegC2FnqUj2"
      },
      "outputs": [],
      "source": [
        "from sklearn.svm import SVC\n",
        "from sklearn.preprocessing import StandardScaler\n",
        "import scipy.sparse as sp\n",
        "from sklearn.metrics import precision_score, recall_score, f1_score\n"
      ]
    },
    {
      "cell_type": "code",
      "execution_count": null,
      "metadata": {
        "id": "DD1i6Eacs1Yp"
      },
      "outputs": [],
      "source": [
        "def improve_ngram_features(ngram_counts, word):\n",
        "    \"\"\"\n",
        "    Optimized feature extraction for n-gram frequencies\n",
        "    \"\"\"\n",
        "    features = {}\n",
        "\n",
        "    # 1. Log-transformed frequency (only for top n-grams)\n",
        "    if word in ngram_counts:\n",
        "        features[\"log_freq\"] = np.log1p(ngram_counts[word])\n",
        "\n",
        "    # 2. Word length features\n",
        "    features[\"word_length\"] = len(word)\n",
        "\n",
        "    # 3. N-gram length features (only up to 3-grams for efficiency)\n",
        "    for n in range(2, 4):\n",
        "        ngrams = [word[i:i+n] for i in range(len(word)-n+1)]\n",
        "        features[f'ngram_{n}_count'] = len(ngrams)\n",
        "\n",
        "    return features\n",
        "\n",
        "\n",
        "def get_training_features(train_data, ngram_counts):\n",
        "    \"\"\"\n",
        "    Extracts optimized features for training data in sparse format.\n",
        "    \"\"\"\n",
        "    words, labels = train_data\n",
        "\n",
        "    # Extract features per word\n",
        "    feature_dicts = [improve_ngram_features(ngram_counts, word) for word in words]\n",
        "\n",
        "    # Collect all feature names\n",
        "    feature_names = sorted(set(k for d in feature_dicts for k in d.keys()))\n",
        "\n",
        "    # Convert to sparse matrix\n",
        "    rows, cols, data = [], [], []\n",
        "    for i, f_dict in enumerate(feature_dicts):\n",
        "        for j, feat in enumerate(feature_names):\n",
        "            if feat in f_dict:\n",
        "                rows.append(i)\n",
        "                cols.append(j)\n",
        "                data.append(f_dict[feat])\n",
        "\n",
        "    X_sparse = sp.csr_matrix((data, (rows, cols)), shape=(len(words), len(feature_names)))\n",
        "\n",
        "    # Scale features\n",
        "    scaler = StandardScaler(with_mean=False)  # Avoid memory explosion with sparse matrix\n",
        "    X_scaled = scaler.fit_transform(X_sparse)\n",
        "\n",
        "    return X_scaled, labels, scaler, feature_names\n",
        "\n",
        "\n",
        "def get_test_features(test_words, ngram_counts, scaler, feature_names):\n",
        "    \"\"\"\n",
        "    Extracts optimized features for test/dev data in sparse format.\n",
        "    \"\"\"\n",
        "    feature_dicts = [improve_ngram_features(ngram_counts, word) for word in test_words]\n",
        "\n",
        "    rows, cols, data = [], [], []\n",
        "    for i, f_dict in enumerate(feature_dicts):\n",
        "        for j, feat in enumerate(feature_names):\n",
        "            if feat in f_dict:\n",
        "                rows.append(i)\n",
        "                cols.append(j)\n",
        "                data.append(f_dict[feat])\n",
        "\n",
        "    X_sparse = sp.csr_matrix((data, (rows, cols)), shape=(len(test_words), len(feature_names)))\n",
        "\n",
        "    # Scale features using training scaler\n",
        "    X_scaled = scaler.transform(X_sparse)\n",
        "\n",
        "    return X_scaled\n",
        "\n",
        "\n",
        "def svm_classifier(train_data, dev_data, ngram_counts):\n",
        "    \"\"\"\n",
        "    Optimized SVM classifier with sparse features.\n",
        "    \"\"\"\n",
        "    # Get optimized training features\n",
        "    X_train_scaled, Y_train, scaler, feature_names = get_training_features(train_data, ngram_counts)\n",
        "\n",
        "    # Get optimized dev features\n",
        "    dev_words, dev_labels = dev_data\n",
        "    X_dev_scaled = get_test_features(dev_words, ngram_counts, scaler, feature_names)\n",
        "\n",
        "    # Train SVM\n",
        "    svm = SVC(kernel='linear', C=1.0, class_weight='balanced')\n",
        "    svm.fit(X_train_scaled, Y_train)\n",
        "\n",
        "    # Predict on train and dev sets\n",
        "    train_pred = svm.predict(X_train_scaled)\n",
        "    dev_pred = svm.predict(X_dev_scaled)\n",
        "\n",
        "    # Compute evaluation metrics\n",
        "    dev_precision = precision_score(dev_labels, dev_pred)\n",
        "    dev_recall = recall_score(dev_labels, dev_pred)\n",
        "    dev_fscore = f1_score(dev_labels, dev_pred)\n",
        "\n",
        "    print(\"\\nDevelopment Data Metrics:\")\n",
        "    print(f\"Precision: {dev_precision:.3f}\")\n",
        "    print(f\"Recall: {dev_recall:.3f}\")\n",
        "    print(f\"F1-score: {dev_fscore:.3f}\")\n",
        "\n",
        "    return train_pred, dev_pred"
      ]
    },
    {
      "cell_type": "markdown",
      "metadata": {
        "id": "oNCeUFiPrcoO"
      },
      "source": [
        "## 4.2 Analyze your model\n",
        "\n",
        "\n",
        "Describe the model and features you choose, and perform a detailed error analysis of your models. Give several examples of words on which your best model performs well. Also give examples of words which your best model performs poorly on, and identify at least TWO categories of words on which your model is making errors.\n",
        "\n",
        "\n"
      ]
    },
    {
      "cell_type": "code",
      "execution_count": null,
      "metadata": {
        "id": "jk60QnbpxbYJ"
      },
      "outputs": [],
      "source": []
    },
    {
      "cell_type": "markdown",
      "metadata": {
        "id": "HXJgfZDyX3DW"
      },
      "source": [
        "- **Answer 4.2**: Write a detailed description of your model and features used. Also include error analysis of your model."
      ]
    },
    {
      "cell_type": "markdown",
      "metadata": {
        "id": "ewYuaixnbgfx"
      },
      "source": [
        "# Answer 4.2\n",
        "## Modal Architect:\n",
        "I have used SVM and default regelarization parameter C=1.0. Features are scaled using standarization.\n",
        "Training features are scaled using mean and standard deviation.\n",
        "\n",
        "# CORE FEATURES:\n",
        "*   N-gram counts (Character Sequences)\n",
        "*   Log of the frequency by applying logarithmic transformation to to reduce the impact of very large frequencies.\n",
        "*   get the relative frequency counts to convert raw frequencies to proportions. this makes feature independent of corpus size\n",
        "*   Feature Scaling applied using means and standard deviations.\n",
        "*   Length feature to capture lenght related patterns.\n",
        "*   Scaled Features: after features, I have used StandardScaler with mean to normalize the feratures.\n",
        "\n",
        "# MODEL TRAINING\n",
        "Converts feature vectors into sparse matrices (CSR format) to save memory.\n",
        "and a my training modal is build using SVM classifier with a linear kernel.\n",
        "\n",
        "Performance is evaluated using Precision, Recall, and F1-score.\n",
        "\n",
        "\n",
        "# EVALUATION ANALYSIS\n",
        "Analyze misclassifications by identifying False Positives (FPs) and False Negatives (FNs).\n",
        "\n",
        "\n",
        "The model's performance on the development dataset is as follows:\n",
        "\n",
        "Metric\tValue\n",
        "Precision\t0.678\n",
        "Recall\t0.734\n",
        "F1-Score\t0.705\n",
        "These values suggest that the model is reasonably good at distinguishing between simple (0) and complex (1) words, but there is room for improvement.\n",
        "\n",
        "A precision of 67.8% of modal means that around 32.2% of words predicted as rare were actually common (false positives).\n",
        "\n",
        "A recall of 73.4% of modal means that 26.6% of actual rare words were missed (false negatives)\n",
        "\n",
        "\n",
        "\n"
      ]
    },
    {
      "cell_type": "markdown",
      "metadata": {
        "id": "UyVWDdmprepx"
      },
      "source": [
        "## 4.3 Leaderboard\n",
        "Finally, use your classifier to predict labels for the test data, and submit these labels in a text file named `test_labels.txt` (with one label per line) to the leaderboard; be sure NOT to shuffle the order of the test examples. Instructions for how to post to the leaderboard will be posted on Ed soon.\n",
        "**In addition, the top 3 submissions will receive 5 bonus points! A successful submission to the leaderboard will guarantee 2 points!**"
      ]
    },
    {
      "cell_type": "code",
      "execution_count": null,
      "metadata": {
        "colab": {
          "base_uri": "https://localhost:8080/"
        },
        "id": "Aqh2598xqPxN",
        "outputId": "d477ce85-a1cc-48df-c8d0-43e1804f634a"
      },
      "outputs": [
        {
          "name": "stdout",
          "output_type": "stream",
          "text": [
            "\n",
            "Development Data Metrics:\n",
            "Precision: 0.678\n",
            "Recall: 0.734\n",
            "F1-score: 0.705\n"
          ]
        }
      ],
      "source": [
        "\n",
        "train_pred, dev_pred = svm_classifier(train_data, dev_data, ngram_counts)\n",
        "\n",
        "with open('test_labels.txt', 'w') as f:\n",
        "    f.write(\"\\n\".join(map(str, train_pred)))"
      ]
    },
    {
      "cell_type": "markdown",
      "metadata": {
        "id": "K5F0dXt8YiGq"
      },
      "source": [
        "- **Answer 4.3**: Upload your `test_labels.txt` to the leaderboard in\n",
        "\n",
        "---\n",
        "\n",
        "Gradescope."
      ]
    },
    {
      "cell_type": "markdown",
      "metadata": {
        "id": "fIaGDgYzrhL_"
      },
      "source": [
        "## 4.4. (Optional) Leaderboard using outside data\n",
        "\n",
        "While the training data we have provided is sufficient for completing this assignment, it is not the only data for the task of identifying complex words. As an optional addition to this homework, you may look for and use any additional training data, and submit your predicted labels in a text file named `test_labels.txt` to the leaderboard.\n",
        "\n",
        "As a start, we recommend looking at the [SemEval 2016 dataset](http://alt.qcri.org/semeval2016/task11/), a dataset that was used in a complex words identification competition. In addition, you can try to use data from [Newsela](https://newsela.com/). Newsela’s editors re-write newspaper articles to be appropriate for students at different grade levels. The company has generously shared a dataset with us. The Newsela data **may not** be re-distributed outside of Penn. You can find the data on eniac at `/home1/c/ccb/data/newsela/newsela_article_corpus_with_scripts_2016-01-29.1.zip`.\n",
        "\n",
        "Good luck, and have fun!"
      ]
    },
    {
      "cell_type": "markdown",
      "metadata": {
        "id": "zve_zJnFrkgy"
      },
      "source": [
        "# Submission\n",
        "Here are the deliverables that you will need to submit:\n",
        "- This notebook (rename them to `homework2.ipynb` and `homework2.py`)\n",
        "- Your model’s output for the test set using only the provided training and development data (`test_labels.txt`)\n",
        "- (Optional) your model’s output for the test set, using any data that you want. (`test_labels.txt`)"
      ]
    }
  ],
  "metadata": {
    "colab": {
      "provenance": []
    },
    "kernelspec": {
      "display_name": "Python 3",
      "name": "python3"
    },
    "language_info": {
      "name": "python"
    }
  },
  "nbformat": 4,
  "nbformat_minor": 0
}
